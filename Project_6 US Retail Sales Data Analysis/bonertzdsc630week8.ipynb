{
 "cells": [
  {
   "cell_type": "code",
   "execution_count": null,
   "id": "dd4d0417",
   "metadata": {},
   "outputs": [],
   "source": [
    "## Bonertz, Brian\n",
    "## DSC630\n",
    "## Week 8"
   ]
  },
  {
   "cell_type": "code",
   "execution_count": 1,
   "id": "64b13fe4",
   "metadata": {},
   "outputs": [],
   "source": [
    "#Import libraries\n",
    "import numpy as np\n",
    "import pandas as pd\n",
    "import matplotlib.pyplot as plt\n",
    "import seaborn as sns\n",
    "import datetime\n",
    "import warnings\n",
    "warnings.filterwarnings('ignore')"
   ]
  },
  {
   "cell_type": "code",
   "execution_count": 2,
   "id": "198c15b2",
   "metadata": {},
   "outputs": [
    {
     "data": {
      "text/html": [
       "<style>.container { width:100% !important; }</style>"
      ],
      "text/plain": [
       "<IPython.core.display.HTML object>"
      ]
     },
     "metadata": {},
     "output_type": "display_data"
    },
    {
     "name": "stdout",
     "output_type": "stream",
     "text": [
      "(30, 13)\n"
     ]
    },
    {
     "data": {
      "text/html": [
       "<div>\n",
       "<style scoped>\n",
       "    .dataframe tbody tr th:only-of-type {\n",
       "        vertical-align: middle;\n",
       "    }\n",
       "\n",
       "    .dataframe tbody tr th {\n",
       "        vertical-align: top;\n",
       "    }\n",
       "\n",
       "    .dataframe thead th {\n",
       "        text-align: right;\n",
       "    }\n",
       "</style>\n",
       "<table border=\"1\" class=\"dataframe\">\n",
       "  <thead>\n",
       "    <tr style=\"text-align: right;\">\n",
       "      <th></th>\n",
       "      <th>YEAR</th>\n",
       "      <th>JAN</th>\n",
       "      <th>FEB</th>\n",
       "      <th>MAR</th>\n",
       "      <th>APR</th>\n",
       "      <th>MAY</th>\n",
       "      <th>JUN</th>\n",
       "      <th>JUL</th>\n",
       "      <th>AUG</th>\n",
       "      <th>SEP</th>\n",
       "      <th>OCT</th>\n",
       "      <th>NOV</th>\n",
       "      <th>DEC</th>\n",
       "    </tr>\n",
       "  </thead>\n",
       "  <tbody>\n",
       "    <tr>\n",
       "      <th>0</th>\n",
       "      <td>1992</td>\n",
       "      <td>146925</td>\n",
       "      <td>147223</td>\n",
       "      <td>146805</td>\n",
       "      <td>148032</td>\n",
       "      <td>149010</td>\n",
       "      <td>149800</td>\n",
       "      <td>150761.0</td>\n",
       "      <td>151067.0</td>\n",
       "      <td>152588.0</td>\n",
       "      <td>153521.0</td>\n",
       "      <td>153583.0</td>\n",
       "      <td>155614.0</td>\n",
       "    </tr>\n",
       "    <tr>\n",
       "      <th>1</th>\n",
       "      <td>1993</td>\n",
       "      <td>157555</td>\n",
       "      <td>156266</td>\n",
       "      <td>154752</td>\n",
       "      <td>158979</td>\n",
       "      <td>160605</td>\n",
       "      <td>160127</td>\n",
       "      <td>162816.0</td>\n",
       "      <td>162506.0</td>\n",
       "      <td>163258.0</td>\n",
       "      <td>164685.0</td>\n",
       "      <td>166594.0</td>\n",
       "      <td>168161.0</td>\n",
       "    </tr>\n",
       "    <tr>\n",
       "      <th>2</th>\n",
       "      <td>1994</td>\n",
       "      <td>167518</td>\n",
       "      <td>169649</td>\n",
       "      <td>172766</td>\n",
       "      <td>173106</td>\n",
       "      <td>172329</td>\n",
       "      <td>174241</td>\n",
       "      <td>174781.0</td>\n",
       "      <td>177295.0</td>\n",
       "      <td>178787.0</td>\n",
       "      <td>180561.0</td>\n",
       "      <td>180703.0</td>\n",
       "      <td>181524.0</td>\n",
       "    </tr>\n",
       "    <tr>\n",
       "      <th>3</th>\n",
       "      <td>1995</td>\n",
       "      <td>182413</td>\n",
       "      <td>179488</td>\n",
       "      <td>181013</td>\n",
       "      <td>181686</td>\n",
       "      <td>183536</td>\n",
       "      <td>186081</td>\n",
       "      <td>185431.0</td>\n",
       "      <td>186806.0</td>\n",
       "      <td>187366.0</td>\n",
       "      <td>186565.0</td>\n",
       "      <td>189055.0</td>\n",
       "      <td>190774.0</td>\n",
       "    </tr>\n",
       "    <tr>\n",
       "      <th>4</th>\n",
       "      <td>1996</td>\n",
       "      <td>189135</td>\n",
       "      <td>192266</td>\n",
       "      <td>194029</td>\n",
       "      <td>194744</td>\n",
       "      <td>196205</td>\n",
       "      <td>196136</td>\n",
       "      <td>196187.0</td>\n",
       "      <td>196218.0</td>\n",
       "      <td>198859.0</td>\n",
       "      <td>200509.0</td>\n",
       "      <td>200174.0</td>\n",
       "      <td>201284.0</td>\n",
       "    </tr>\n",
       "  </tbody>\n",
       "</table>\n",
       "</div>"
      ],
      "text/plain": [
       "   YEAR     JAN     FEB     MAR     APR     MAY     JUN       JUL       AUG  \\\n",
       "0  1992  146925  147223  146805  148032  149010  149800  150761.0  151067.0   \n",
       "1  1993  157555  156266  154752  158979  160605  160127  162816.0  162506.0   \n",
       "2  1994  167518  169649  172766  173106  172329  174241  174781.0  177295.0   \n",
       "3  1995  182413  179488  181013  181686  183536  186081  185431.0  186806.0   \n",
       "4  1996  189135  192266  194029  194744  196205  196136  196187.0  196218.0   \n",
       "\n",
       "        SEP       OCT       NOV       DEC  \n",
       "0  152588.0  153521.0  153583.0  155614.0  \n",
       "1  163258.0  164685.0  166594.0  168161.0  \n",
       "2  178787.0  180561.0  180703.0  181524.0  \n",
       "3  187366.0  186565.0  189055.0  190774.0  \n",
       "4  198859.0  200509.0  200174.0  201284.0  "
      ]
     },
     "execution_count": 2,
     "metadata": {},
     "output_type": "execute_result"
    }
   ],
   "source": [
    "#Load the dataset\n",
    "\n",
    "from IPython.core.display import display, HTML\n",
    "display(HTML(\"<style>.container { width:100% !important; }</style>\"))\n",
    "\n",
    "sales = pd.read_csv('us_retail_sales.csv')\n",
    "print(sales.shape)\n",
    "sales.head()"
   ]
  },
  {
   "cell_type": "code",
   "execution_count": 3,
   "id": "b73d4387",
   "metadata": {},
   "outputs": [
    {
     "data": {
      "text/html": [
       "<div>\n",
       "<style scoped>\n",
       "    .dataframe tbody tr th:only-of-type {\n",
       "        vertical-align: middle;\n",
       "    }\n",
       "\n",
       "    .dataframe tbody tr th {\n",
       "        vertical-align: top;\n",
       "    }\n",
       "\n",
       "    .dataframe thead th {\n",
       "        text-align: right;\n",
       "    }\n",
       "</style>\n",
       "<table border=\"1\" class=\"dataframe\">\n",
       "  <thead>\n",
       "    <tr style=\"text-align: right;\">\n",
       "      <th></th>\n",
       "      <th>YEAR</th>\n",
       "      <th>variable</th>\n",
       "      <th>value</th>\n",
       "    </tr>\n",
       "  </thead>\n",
       "  <tbody>\n",
       "    <tr>\n",
       "      <th>0</th>\n",
       "      <td>1992</td>\n",
       "      <td>JAN</td>\n",
       "      <td>146925.0</td>\n",
       "    </tr>\n",
       "    <tr>\n",
       "      <th>1</th>\n",
       "      <td>1993</td>\n",
       "      <td>JAN</td>\n",
       "      <td>157555.0</td>\n",
       "    </tr>\n",
       "    <tr>\n",
       "      <th>2</th>\n",
       "      <td>1994</td>\n",
       "      <td>JAN</td>\n",
       "      <td>167518.0</td>\n",
       "    </tr>\n",
       "    <tr>\n",
       "      <th>3</th>\n",
       "      <td>1995</td>\n",
       "      <td>JAN</td>\n",
       "      <td>182413.0</td>\n",
       "    </tr>\n",
       "    <tr>\n",
       "      <th>4</th>\n",
       "      <td>1996</td>\n",
       "      <td>JAN</td>\n",
       "      <td>189135.0</td>\n",
       "    </tr>\n",
       "  </tbody>\n",
       "</table>\n",
       "</div>"
      ],
      "text/plain": [
       "   YEAR variable     value\n",
       "0  1992      JAN  146925.0\n",
       "1  1993      JAN  157555.0\n",
       "2  1994      JAN  167518.0\n",
       "3  1995      JAN  182413.0\n",
       "4  1996      JAN  189135.0"
      ]
     },
     "execution_count": 3,
     "metadata": {},
     "output_type": "execute_result"
    }
   ],
   "source": [
    "#unpivot the month columns to create a new dataframe with three columns \n",
    "#(Year, Month \"varable\", and retail sales \"value\")\n",
    "\n",
    "salespvt = pd.melt(sales, id_vars='YEAR', \n",
    "                        value_vars=['JAN', 'FEB', 'MAR', 'APR',\n",
    "                                    'MAY', 'JUN', 'JUL', 'AUG',\n",
    "                                    'SEP', 'OCT', 'NOV', 'DEC'])\n",
    "salespvt.head()"
   ]
  },
  {
   "cell_type": "code",
   "execution_count": 5,
   "id": "d5ef65da",
   "metadata": {},
   "outputs": [
    {
     "data": {
      "text/html": [
       "<div>\n",
       "<style scoped>\n",
       "    .dataframe tbody tr th:only-of-type {\n",
       "        vertical-align: middle;\n",
       "    }\n",
       "\n",
       "    .dataframe tbody tr th {\n",
       "        vertical-align: top;\n",
       "    }\n",
       "\n",
       "    .dataframe thead th {\n",
       "        text-align: right;\n",
       "    }\n",
       "</style>\n",
       "<table border=\"1\" class=\"dataframe\">\n",
       "  <thead>\n",
       "    <tr style=\"text-align: right;\">\n",
       "      <th></th>\n",
       "      <th>YEAR</th>\n",
       "      <th>variable</th>\n",
       "      <th>value</th>\n",
       "      <th>Date</th>\n",
       "    </tr>\n",
       "  </thead>\n",
       "  <tbody>\n",
       "    <tr>\n",
       "      <th>0</th>\n",
       "      <td>1992</td>\n",
       "      <td>JAN</td>\n",
       "      <td>146925.0</td>\n",
       "      <td>JAN, 1992</td>\n",
       "    </tr>\n",
       "    <tr>\n",
       "      <th>1</th>\n",
       "      <td>1993</td>\n",
       "      <td>JAN</td>\n",
       "      <td>157555.0</td>\n",
       "      <td>JAN, 1993</td>\n",
       "    </tr>\n",
       "    <tr>\n",
       "      <th>2</th>\n",
       "      <td>1994</td>\n",
       "      <td>JAN</td>\n",
       "      <td>167518.0</td>\n",
       "      <td>JAN, 1994</td>\n",
       "    </tr>\n",
       "    <tr>\n",
       "      <th>3</th>\n",
       "      <td>1995</td>\n",
       "      <td>JAN</td>\n",
       "      <td>182413.0</td>\n",
       "      <td>JAN, 1995</td>\n",
       "    </tr>\n",
       "    <tr>\n",
       "      <th>4</th>\n",
       "      <td>1996</td>\n",
       "      <td>JAN</td>\n",
       "      <td>189135.0</td>\n",
       "      <td>JAN, 1996</td>\n",
       "    </tr>\n",
       "  </tbody>\n",
       "</table>\n",
       "</div>"
      ],
      "text/plain": [
       "   YEAR variable     value       Date\n",
       "0  1992      JAN  146925.0  JAN, 1992\n",
       "1  1993      JAN  157555.0  JAN, 1993\n",
       "2  1994      JAN  167518.0  JAN, 1994\n",
       "3  1995      JAN  182413.0  JAN, 1995\n",
       "4  1996      JAN  189135.0  JAN, 1996"
      ]
     },
     "execution_count": 5,
     "metadata": {},
     "output_type": "execute_result"
    }
   ],
   "source": [
    "# merge the year and month columns into a new date column\n",
    "\n",
    "salespvt[\"Date\"] = salespvt[\"variable\"] + \", \"+ salespvt[\"YEAR\"].astype(str)\n",
    "\n",
    "salespvt.head()"
   ]
  },
  {
   "cell_type": "code",
   "execution_count": 6,
   "id": "d6495a34",
   "metadata": {},
   "outputs": [
    {
     "data": {
      "text/html": [
       "<div>\n",
       "<style scoped>\n",
       "    .dataframe tbody tr th:only-of-type {\n",
       "        vertical-align: middle;\n",
       "    }\n",
       "\n",
       "    .dataframe tbody tr th {\n",
       "        vertical-align: top;\n",
       "    }\n",
       "\n",
       "    .dataframe thead th {\n",
       "        text-align: right;\n",
       "    }\n",
       "</style>\n",
       "<table border=\"1\" class=\"dataframe\">\n",
       "  <thead>\n",
       "    <tr style=\"text-align: right;\">\n",
       "      <th></th>\n",
       "      <th>date</th>\n",
       "      <th>value</th>\n",
       "    </tr>\n",
       "  </thead>\n",
       "  <tbody>\n",
       "    <tr>\n",
       "      <th>0</th>\n",
       "      <td>1992-01-01</td>\n",
       "      <td>146925.0</td>\n",
       "    </tr>\n",
       "    <tr>\n",
       "      <th>30</th>\n",
       "      <td>1992-02-01</td>\n",
       "      <td>147223.0</td>\n",
       "    </tr>\n",
       "    <tr>\n",
       "      <th>60</th>\n",
       "      <td>1992-03-01</td>\n",
       "      <td>146805.0</td>\n",
       "    </tr>\n",
       "    <tr>\n",
       "      <th>90</th>\n",
       "      <td>1992-04-01</td>\n",
       "      <td>148032.0</td>\n",
       "    </tr>\n",
       "    <tr>\n",
       "      <th>120</th>\n",
       "      <td>1992-05-01</td>\n",
       "      <td>149010.0</td>\n",
       "    </tr>\n",
       "  </tbody>\n",
       "</table>\n",
       "</div>"
      ],
      "text/plain": [
       "          date     value\n",
       "0   1992-01-01  146925.0\n",
       "30  1992-02-01  147223.0\n",
       "60  1992-03-01  146805.0\n",
       "90  1992-04-01  148032.0\n",
       "120 1992-05-01  149010.0"
      ]
     },
     "execution_count": 6,
     "metadata": {},
     "output_type": "execute_result"
    }
   ],
   "source": [
    "#Convert the date column into datetime format and sort assending by date\n",
    "\n",
    "salespvt['date'] = pd.to_datetime(salespvt['Date'])\n",
    "sales_new = salespvt[['date', 'value']]\n",
    "sales_sort = sales_new.sort_values(by=['date'])\n",
    "sales_sort.head()"
   ]
  },
  {
   "cell_type": "code",
   "execution_count": 7,
   "id": "1e6e479b",
   "metadata": {},
   "outputs": [
    {
     "data": {
      "text/plain": [
       "date     0\n",
       "value    6\n",
       "dtype: int64"
      ]
     },
     "execution_count": 7,
     "metadata": {},
     "output_type": "execute_result"
    }
   ],
   "source": [
    "#when unpivoting the columns, we created 6 rows at the bottom of the dataframe\n",
    "#that does not have retail sales values\n",
    "\n",
    "sales_sort.isna().sum()"
   ]
  },
  {
   "cell_type": "code",
   "execution_count": 8,
   "id": "05d6fff8",
   "metadata": {},
   "outputs": [
    {
     "data": {
      "text/plain": [
       "date     0\n",
       "value    0\n",
       "dtype: int64"
      ]
     },
     "execution_count": 8,
     "metadata": {},
     "output_type": "execute_result"
    }
   ],
   "source": [
    "#Remove the rows containing null values. \n",
    "\n",
    "sales_sort.dropna(inplace=True)\n",
    "sales_sort.isna().sum()"
   ]
  },
  {
   "cell_type": "markdown",
   "id": "4c537786",
   "metadata": {},
   "source": [
    "### 1) Plot the data with proper labeling and make some observations on the graph."
   ]
  },
  {
   "cell_type": "code",
   "execution_count": 9,
   "id": "5c1f574c",
   "metadata": {},
   "outputs": [
    {
     "data": {
      "text/plain": [
       "Text(0, 0.5, 'Retail Sales')"
      ]
     },
     "execution_count": 9,
     "metadata": {},
     "output_type": "execute_result"
    },
    {
     "data": {
      "image/png": "[encoded data removed]",
      "text/plain": [
       "<Figure size 900x500 with 1 Axes>"
      ]
     },
     "metadata": {},
     "output_type": "display_data"
    }
   ],
   "source": [
    "#Plot the dataset with matplotlib\n",
    "\n",
    "plt.figure(figsize=(9, 5))\n",
    "plt.plot(sales_sort.date, sales_sort.value, linewidth=3)\n",
    "plt.title('Retail Sales by Date')\n",
    "plt.xlabel('Date')\n",
    "plt.ylabel('Retail Sales')"
   ]
  },
  {
   "cell_type": "markdown",
   "id": "c7e641fd",
   "metadata": {},
   "source": [
    "Observation of the graph above indicates a steady increase in total monthly retail sales over the past 20 years. There are two shifts in this trend. One taking place around 2008 - 2009, and another large drop around 2020. Thinking of economic conditions around these time frames, there was a crash in the housing market around 2008, and the covid pandemic took place around 2020. One may speculate that these are the contributing factors for the drop in retail sales during these two events, however further analysis should be done to examine other economic circumstances within these time frames that may be related. \n",
    "\n",
    "Another interesting note is the sharp increase in retail sales that takes place after 2020. This rate of increas has not been witnessed in the previous 20 years, nor was there as large of a rebound in retail sales after the drop in retail saled around 2008. "
   ]
  },
  {
   "cell_type": "markdown",
   "id": "8dad7ed1",
   "metadata": {},
   "source": [
    "### 2) Split this data into train and test set using last year (Jul 2020 - Jun 2021) as test and rest for train"
   ]
  },
  {
   "cell_type": "code",
   "execution_count": 10,
   "id": "c7d17726",
   "metadata": {},
   "outputs": [
    {
     "data": {
      "text/html": [
       "<div>\n",
       "<style scoped>\n",
       "    .dataframe tbody tr th:only-of-type {\n",
       "        vertical-align: middle;\n",
       "    }\n",
       "\n",
       "    .dataframe tbody tr th {\n",
       "        vertical-align: top;\n",
       "    }\n",
       "\n",
       "    .dataframe thead th {\n",
       "        text-align: right;\n",
       "    }\n",
       "</style>\n",
       "<table border=\"1\" class=\"dataframe\">\n",
       "  <thead>\n",
       "    <tr style=\"text-align: right;\">\n",
       "      <th></th>\n",
       "      <th>date</th>\n",
       "      <th>value</th>\n",
       "    </tr>\n",
       "    <tr>\n",
       "      <th>date</th>\n",
       "      <th></th>\n",
       "      <th></th>\n",
       "    </tr>\n",
       "  </thead>\n",
       "  <tbody>\n",
       "    <tr>\n",
       "      <th>1992-01-01</th>\n",
       "      <td>1992-01-01</td>\n",
       "      <td>146925.0</td>\n",
       "    </tr>\n",
       "    <tr>\n",
       "      <th>1992-02-01</th>\n",
       "      <td>1992-02-01</td>\n",
       "      <td>147223.0</td>\n",
       "    </tr>\n",
       "    <tr>\n",
       "      <th>1992-03-01</th>\n",
       "      <td>1992-03-01</td>\n",
       "      <td>146805.0</td>\n",
       "    </tr>\n",
       "    <tr>\n",
       "      <th>1992-04-01</th>\n",
       "      <td>1992-04-01</td>\n",
       "      <td>148032.0</td>\n",
       "    </tr>\n",
       "    <tr>\n",
       "      <th>1992-05-01</th>\n",
       "      <td>1992-05-01</td>\n",
       "      <td>149010.0</td>\n",
       "    </tr>\n",
       "  </tbody>\n",
       "</table>\n",
       "</div>"
      ],
      "text/plain": [
       "                 date     value\n",
       "date                           \n",
       "1992-01-01 1992-01-01  146925.0\n",
       "1992-02-01 1992-02-01  147223.0\n",
       "1992-03-01 1992-03-01  146805.0\n",
       "1992-04-01 1992-04-01  148032.0\n",
       "1992-05-01 1992-05-01  149010.0"
      ]
     },
     "execution_count": 10,
     "metadata": {},
     "output_type": "execute_result"
    }
   ],
   "source": [
    "#to split we need to designate the date column as the index to split by date\n",
    "\n",
    "salesdf = sales_sort.set_index(sales_sort['date'])\n",
    "salesdf.head()"
   ]
  },
  {
   "cell_type": "code",
   "execution_count": 13,
   "id": "67c32b21",
   "metadata": {},
   "outputs": [],
   "source": [
    "#split the salesdf into train and test dataframes by date of 7/1/2020\n",
    "\n",
    "train = salesdf[salesdf.index <= '2020-06-01']\n",
    "test = salesdf[salesdf.index > '2020-06-01']"
   ]
  },
  {
   "cell_type": "markdown",
   "id": "fe3955c7",
   "metadata": {},
   "source": [
    "### 3) Use the training set to build a predictive model for the monthly retail sales. "
   ]
  },
  {
   "cell_type": "code",
   "execution_count": 12,
   "id": "ed6f7fef",
   "metadata": {},
   "outputs": [
    {
     "name": "stdout",
     "output_type": "stream",
     "text": [
      "Performing stepwise search to minimize aic\n",
      " ARIMA(1,0,1)(0,1,1)[12] intercept   : AIC=7268.700, Time=0.92 sec\n",
      " ARIMA(0,0,0)(0,1,0)[12] intercept   : AIC=7664.770, Time=0.11 sec\n",
      " ARIMA(1,0,0)(1,1,0)[12] intercept   : AIC=7267.636, Time=0.67 sec\n",
      " ARIMA(0,0,1)(0,1,1)[12] intercept   : AIC=7467.236, Time=0.62 sec\n",
      " ARIMA(0,0,0)(0,1,0)[12]             : AIC=7806.381, Time=0.07 sec\n",
      " ARIMA(1,0,0)(0,1,0)[12] intercept   : AIC=7392.615, Time=0.17 sec\n",
      " ARIMA(1,0,0)(2,1,0)[12] intercept   : AIC=7258.995, Time=1.22 sec\n",
      " ARIMA(1,0,0)(2,1,1)[12] intercept   : AIC=7252.210, Time=1.98 sec\n",
      " ARIMA(1,0,0)(1,1,1)[12] intercept   : AIC=7251.241, Time=1.09 sec\n",
      " ARIMA(1,0,0)(0,1,1)[12] intercept   : AIC=7266.042, Time=0.67 sec\n",
      " ARIMA(1,0,0)(1,1,2)[12] intercept   : AIC=7253.090, Time=2.06 sec\n",
      " ARIMA(1,0,0)(0,1,2)[12] intercept   : AIC=7257.214, Time=1.42 sec\n",
      " ARIMA(1,0,0)(2,1,2)[12] intercept   : AIC=7254.181, Time=2.12 sec\n",
      " ARIMA(0,0,0)(1,1,1)[12] intercept   : AIC=7665.601, Time=0.73 sec\n",
      " ARIMA(2,0,0)(1,1,1)[12] intercept   : AIC=7250.828, Time=1.61 sec\n",
      " ARIMA(2,0,0)(0,1,1)[12] intercept   : AIC=7268.444, Time=0.75 sec\n",
      " ARIMA(2,0,0)(1,1,0)[12] intercept   : AIC=7268.286, Time=0.73 sec\n",
      " ARIMA(2,0,0)(2,1,1)[12] intercept   : AIC=7252.717, Time=2.62 sec\n",
      " ARIMA(2,0,0)(1,1,2)[12] intercept   : AIC=7252.240, Time=2.45 sec\n",
      " ARIMA(2,0,0)(0,1,0)[12] intercept   : AIC=7386.742, Time=0.35 sec\n",
      " ARIMA(2,0,0)(0,1,2)[12] intercept   : AIC=7259.911, Time=1.78 sec\n",
      " ARIMA(2,0,0)(2,1,0)[12] intercept   : AIC=7258.180, Time=1.89 sec\n",
      " ARIMA(2,0,0)(2,1,2)[12] intercept   : AIC=7254.228, Time=2.59 sec\n",
      " ARIMA(3,0,0)(1,1,1)[12] intercept   : AIC=7248.966, Time=2.44 sec\n",
      " ARIMA(3,0,0)(0,1,1)[12] intercept   : AIC=7265.054, Time=1.15 sec\n",
      " ARIMA(3,0,0)(1,1,0)[12] intercept   : AIC=7271.913, Time=1.28 sec\n",
      " ARIMA(3,0,0)(2,1,1)[12] intercept   : AIC=7249.247, Time=3.40 sec\n",
      " ARIMA(3,0,0)(1,1,2)[12] intercept   : AIC=7250.965, Time=3.37 sec\n",
      " ARIMA(3,0,0)(0,1,0)[12] intercept   : AIC=7402.924, Time=0.54 sec\n",
      " ARIMA(3,0,0)(0,1,2)[12] intercept   : AIC=7252.568, Time=2.61 sec\n",
      " ARIMA(3,0,0)(2,1,0)[12] intercept   : AIC=7260.050, Time=3.77 sec\n",
      " ARIMA(3,0,0)(2,1,2)[12] intercept   : AIC=7250.711, Time=9.77 sec\n",
      " ARIMA(3,0,1)(1,1,1)[12] intercept   : AIC=7246.566, Time=6.96 sec\n",
      " ARIMA(3,0,1)(0,1,1)[12] intercept   : AIC=7264.753, Time=3.86 sec\n",
      " ARIMA(3,0,1)(1,1,0)[12] intercept   : AIC=7266.748, Time=6.21 sec\n",
      " ARIMA(3,0,1)(2,1,1)[12] intercept   : AIC=7248.561, Time=9.99 sec\n",
      " ARIMA(3,0,1)(1,1,2)[12] intercept   : AIC=7247.439, Time=6.52 sec\n",
      " ARIMA(3,0,1)(0,1,0)[12] intercept   : AIC=7390.467, Time=1.11 sec\n",
      " ARIMA(3,0,1)(0,1,2)[12] intercept   : AIC=7253.781, Time=6.30 sec\n",
      " ARIMA(3,0,1)(2,1,0)[12] intercept   : AIC=7251.970, Time=6.07 sec\n",
      " ARIMA(3,0,1)(2,1,2)[12] intercept   : AIC=inf, Time=17.95 sec\n",
      " ARIMA(2,0,1)(1,1,1)[12] intercept   : AIC=7248.758, Time=5.70 sec\n",
      " ARIMA(3,0,2)(1,1,1)[12] intercept   : AIC=7246.714, Time=3.33 sec\n",
      " ARIMA(2,0,2)(1,1,1)[12] intercept   : AIC=7245.534, Time=3.43 sec\n",
      " ARIMA(2,0,2)(0,1,1)[12] intercept   : AIC=7263.575, Time=1.69 sec\n",
      " ARIMA(2,0,2)(1,1,0)[12] intercept   : AIC=7266.627, Time=3.30 sec\n",
      " ARIMA(2,0,2)(2,1,1)[12] intercept   : AIC=7247.533, Time=4.85 sec\n",
      " ARIMA(2,0,2)(1,1,2)[12] intercept   : AIC=7246.396, Time=4.93 sec\n",
      " ARIMA(2,0,2)(0,1,0)[12] intercept   : AIC=7389.124, Time=0.83 sec\n",
      " ARIMA(2,0,2)(0,1,2)[12] intercept   : AIC=7252.695, Time=4.30 sec\n",
      " ARIMA(2,0,2)(2,1,0)[12] intercept   : AIC=7251.578, Time=3.56 sec\n",
      " ARIMA(2,0,2)(2,1,2)[12] intercept   : AIC=inf, Time=15.33 sec\n",
      " ARIMA(1,0,2)(1,1,1)[12] intercept   : AIC=7243.721, Time=2.18 sec\n",
      " ARIMA(1,0,2)(0,1,1)[12] intercept   : AIC=7261.261, Time=1.40 sec\n",
      " ARIMA(1,0,2)(1,1,0)[12] intercept   : AIC=7269.246, Time=1.36 sec\n",
      " ARIMA(1,0,2)(2,1,1)[12] intercept   : AIC=7245.594, Time=3.43 sec\n",
      " ARIMA(1,0,2)(1,1,2)[12] intercept   : AIC=7245.133, Time=7.34 sec\n",
      " ARIMA(1,0,2)(0,1,0)[12] intercept   : AIC=7366.930, Time=1.63 sec\n",
      " ARIMA(1,0,2)(0,1,2)[12] intercept   : AIC=7250.513, Time=2.58 sec\n",
      " ARIMA(1,0,2)(2,1,0)[12] intercept   : AIC=7254.942, Time=2.64 sec\n",
      " ARIMA(1,0,2)(2,1,2)[12] intercept   : AIC=7247.082, Time=7.89 sec\n",
      " ARIMA(0,0,2)(1,1,1)[12] intercept   : AIC=7404.695, Time=1.94 sec\n",
      " ARIMA(1,0,1)(1,1,1)[12] intercept   : AIC=7250.696, Time=2.38 sec\n",
      " ARIMA(1,0,3)(1,1,1)[12] intercept   : AIC=7244.238, Time=2.27 sec\n",
      " ARIMA(0,0,1)(1,1,1)[12] intercept   : AIC=7467.402, Time=1.88 sec\n",
      " ARIMA(0,0,3)(1,1,1)[12] intercept   : AIC=7366.070, Time=3.82 sec\n",
      " ARIMA(2,0,3)(1,1,1)[12] intercept   : AIC=7245.256, Time=4.51 sec\n",
      " ARIMA(1,0,2)(1,1,1)[12]             : AIC=inf, Time=5.16 sec\n",
      "\n",
      "Best model:  ARIMA(1,0,2)(1,1,1)[12] intercept\n",
      "Total fit time: 225.979 seconds\n"
     ]
    },
    {
     "data": {
      "text/html": [
       "<table class=\"simpletable\">\n",
       "<caption>SARIMAX Results</caption>\n",
       "<tr>\n",
       "  <th>Dep. Variable:</th>                   <td>y</td>                <th>  No. Observations:  </th>    <td>354</td>   \n",
       "</tr>\n",
       "<tr>\n",
       "  <th>Model:</th>           <td>SARIMAX(1, 0, 2)x(1, 1, [1], 12)</td> <th>  Log Likelihood     </th> <td>-3614.861</td>\n",
       "</tr>\n",
       "<tr>\n",
       "  <th>Date:</th>                    <td>Thu, 02 May 2024</td>         <th>  AIC                </th> <td>7243.721</td> \n",
       "</tr>\n",
       "<tr>\n",
       "  <th>Time:</th>                        <td>16:34:33</td>             <th>  BIC                </th> <td>7270.565</td> \n",
       "</tr>\n",
       "<tr>\n",
       "  <th>Sample:</th>                     <td>01-01-1992</td>            <th>  HQIC               </th> <td>7254.415</td> \n",
       "</tr>\n",
       "<tr>\n",
       "  <th></th>                           <td>- 06-01-2021</td>           <th>                     </th>     <td> </td>    \n",
       "</tr>\n",
       "<tr>\n",
       "  <th>Covariance Type:</th>                <td>opg</td>               <th>                     </th>     <td> </td>    \n",
       "</tr>\n",
       "</table>\n",
       "<table class=\"simpletable\">\n",
       "<tr>\n",
       "      <td></td>         <th>coef</th>     <th>std err</th>      <th>z</th>      <th>P>|z|</th>  <th>[0.025</th>    <th>0.975]</th>  \n",
       "</tr>\n",
       "<tr>\n",
       "  <th>intercept</th> <td> 1283.9123</td> <td>  464.620</td> <td>    2.763</td> <td> 0.006</td> <td>  373.273</td> <td> 2194.551</td>\n",
       "</tr>\n",
       "<tr>\n",
       "  <th>ar.L1</th>     <td>    0.9306</td> <td>    0.015</td> <td>   61.798</td> <td> 0.000</td> <td>    0.901</td> <td>    0.960</td>\n",
       "</tr>\n",
       "<tr>\n",
       "  <th>ma.L1</th>     <td>   -0.1537</td> <td>    0.035</td> <td>   -4.352</td> <td> 0.000</td> <td>   -0.223</td> <td>   -0.084</td>\n",
       "</tr>\n",
       "<tr>\n",
       "  <th>ma.L2</th>     <td>   -0.1705</td> <td>    0.037</td> <td>   -4.552</td> <td> 0.000</td> <td>   -0.244</td> <td>   -0.097</td>\n",
       "</tr>\n",
       "<tr>\n",
       "  <th>ar.S.L12</th>  <td>   -0.4025</td> <td>    0.016</td> <td>  -25.769</td> <td> 0.000</td> <td>   -0.433</td> <td>   -0.372</td>\n",
       "</tr>\n",
       "<tr>\n",
       "  <th>ma.S.L12</th>  <td>   -0.5413</td> <td>    0.035</td> <td>  -15.358</td> <td> 0.000</td> <td>   -0.610</td> <td>   -0.472</td>\n",
       "</tr>\n",
       "<tr>\n",
       "  <th>sigma2</th>    <td> 8.772e+07</td> <td>    0.003</td> <td> 3.16e+10</td> <td> 0.000</td> <td> 8.77e+07</td> <td> 8.77e+07</td>\n",
       "</tr>\n",
       "</table>\n",
       "<table class=\"simpletable\">\n",
       "<tr>\n",
       "  <th>Ljung-Box (L1) (Q):</th>     <td>5.14</td> <th>  Jarque-Bera (JB):  </th> <td>7005.97</td>\n",
       "</tr>\n",
       "<tr>\n",
       "  <th>Prob(Q):</th>                <td>0.02</td> <th>  Prob(JB):          </th>  <td>0.00</td>  \n",
       "</tr>\n",
       "<tr>\n",
       "  <th>Heteroskedasticity (H):</th> <td>1.08</td> <th>  Skew:              </th>  <td>-1.26</td> \n",
       "</tr>\n",
       "<tr>\n",
       "  <th>Prob(H) (two-sided):</th>    <td>0.67</td> <th>  Kurtosis:          </th>  <td>25.03</td> \n",
       "</tr>\n",
       "</table><br/><br/>Warnings:<br/>[1] Covariance matrix calculated using the outer product of gradients (complex-step).<br/>[2] Covariance matrix is singular or near-singular, with condition number 9.13e+25. Standard errors may be unstable."
      ],
      "text/plain": [
       "<class 'statsmodels.iolib.summary.Summary'>\n",
       "\"\"\"\n",
       "                                      SARIMAX Results                                       \n",
       "============================================================================================\n",
       "Dep. Variable:                                    y   No. Observations:                  354\n",
       "Model:             SARIMAX(1, 0, 2)x(1, 1, [1], 12)   Log Likelihood               -3614.861\n",
       "Date:                              Thu, 02 May 2024   AIC                           7243.721\n",
       "Time:                                      16:34:33   BIC                           7270.565\n",
       "Sample:                                  01-01-1992   HQIC                          7254.415\n",
       "                                       - 06-01-2021                                         \n",
       "Covariance Type:                                opg                                         \n",
       "==============================================================================\n",
       "                 coef    std err          z      P>|z|      [0.025      0.975]\n",
       "------------------------------------------------------------------------------\n",
       "intercept   1283.9123    464.620      2.763      0.006     373.273    2194.551\n",
       "ar.L1          0.9306      0.015     61.798      0.000       0.901       0.960\n",
       "ma.L1         -0.1537      0.035     -4.352      0.000      -0.223      -0.084\n",
       "ma.L2         -0.1705      0.037     -4.552      0.000      -0.244      -0.097\n",
       "ar.S.L12      -0.4025      0.016    -25.769      0.000      -0.433      -0.372\n",
       "ma.S.L12      -0.5413      0.035    -15.358      0.000      -0.610      -0.472\n",
       "sigma2      8.772e+07      0.003   3.16e+10      0.000    8.77e+07    8.77e+07\n",
       "===================================================================================\n",
       "Ljung-Box (L1) (Q):                   5.14   Jarque-Bera (JB):              7005.97\n",
       "Prob(Q):                              0.02   Prob(JB):                         0.00\n",
       "Heteroskedasticity (H):               1.08   Skew:                            -1.26\n",
       "Prob(H) (two-sided):                  0.67   Kurtosis:                        25.03\n",
       "===================================================================================\n",
       "\n",
       "Warnings:\n",
       "[1] Covariance matrix calculated using the outer product of gradients (complex-step).\n",
       "[2] Covariance matrix is singular or near-singular, with condition number 9.13e+25. Standard errors may be unstable.\n",
       "\"\"\""
      ]
     },
     "execution_count": 12,
     "metadata": {},
     "output_type": "execute_result"
    }
   ],
   "source": [
    "#We will use ARIMA to determine the best fit model and parameters \n",
    "#from the salesdf dataset \n",
    "\n",
    "from pmdarima import auto_arima\n",
    "\n",
    "import warnings \n",
    "warnings.filterwarnings(\"ignore\") \n",
    "\n",
    "stepwise_fit = auto_arima(salesdf['value'], start_p = 1, start_q = 1, \n",
    "                          max_p = 3, max_q = 3, m = 12, \n",
    "                          start_P = 0, seasonal = True, \n",
    "                          d = None, D = 1, trace = True, \n",
    "                          error_action ='ignore',   # ignore if an order doesn't work \n",
    "                          suppress_warnings = True,  # suppress convergence warnings \n",
    "                          stepwise = True)           # set to stepwise \n",
    "  \n",
    "# To print the summary \n",
    "stepwise_fit.summary() "
   ]
  },
  {
   "cell_type": "code",
   "execution_count": 13,
   "id": "92a00990",
   "metadata": {},
   "outputs": [
    {
     "data": {
      "text/html": [
       "<table class=\"simpletable\">\n",
       "<caption>SARIMAX Results</caption>\n",
       "<tr>\n",
       "  <th>Dep. Variable:</th>                 <td>value</td>              <th>  No. Observations:  </th>    <td>342</td>   \n",
       "</tr>\n",
       "<tr>\n",
       "  <th>Model:</th>           <td>SARIMAX(1, 0, 2)x(1, 1, [1], 12)</td> <th>  Log Likelihood     </th> <td>-3446.980</td>\n",
       "</tr>\n",
       "<tr>\n",
       "  <th>Date:</th>                    <td>Thu, 02 May 2024</td>         <th>  AIC                </th> <td>6905.959</td> \n",
       "</tr>\n",
       "<tr>\n",
       "  <th>Time:</th>                        <td>16:41:04</td>             <th>  BIC                </th> <td>6928.754</td> \n",
       "</tr>\n",
       "<tr>\n",
       "  <th>Sample:</th>                     <td>01-01-1992</td>            <th>  HQIC               </th> <td>6915.052</td> \n",
       "</tr>\n",
       "<tr>\n",
       "  <th></th>                           <td>- 06-01-2020</td>           <th>                     </th>     <td> </td>    \n",
       "</tr>\n",
       "<tr>\n",
       "  <th>Covariance Type:</th>                <td>opg</td>               <th>                     </th>     <td> </td>    \n",
       "</tr>\n",
       "</table>\n",
       "<table class=\"simpletable\">\n",
       "<tr>\n",
       "      <td></td>        <th>coef</th>     <th>std err</th>      <th>z</th>      <th>P>|z|</th>  <th>[0.025</th>    <th>0.975]</th>  \n",
       "</tr>\n",
       "<tr>\n",
       "  <th>ar.L1</th>    <td>    1.0000</td> <td> 9.35e-05</td> <td> 1.07e+04</td> <td> 0.000</td> <td>    1.000</td> <td>    1.000</td>\n",
       "</tr>\n",
       "<tr>\n",
       "  <th>ma.L1</th>    <td>   -0.4013</td> <td>    0.019</td> <td>  -21.311</td> <td> 0.000</td> <td>   -0.438</td> <td>   -0.364</td>\n",
       "</tr>\n",
       "<tr>\n",
       "  <th>ma.L2</th>    <td>   -0.4555</td> <td>    0.021</td> <td>  -22.059</td> <td> 0.000</td> <td>   -0.496</td> <td>   -0.415</td>\n",
       "</tr>\n",
       "<tr>\n",
       "  <th>ar.S.L12</th> <td>    0.2435</td> <td>    0.025</td> <td>    9.604</td> <td> 0.000</td> <td>    0.194</td> <td>    0.293</td>\n",
       "</tr>\n",
       "<tr>\n",
       "  <th>ma.S.L12</th> <td>   -0.9970</td> <td>    0.027</td> <td>  -36.390</td> <td> 0.000</td> <td>   -1.051</td> <td>   -0.943</td>\n",
       "</tr>\n",
       "<tr>\n",
       "  <th>sigma2</th>   <td> 4.298e+07</td> <td> 6.98e-10</td> <td> 6.16e+16</td> <td> 0.000</td> <td>  4.3e+07</td> <td>  4.3e+07</td>\n",
       "</tr>\n",
       "</table>\n",
       "<table class=\"simpletable\">\n",
       "<tr>\n",
       "  <th>Ljung-Box (L1) (Q):</th>     <td>25.45</td> <th>  Jarque-Bera (JB):  </th> <td>5091.29</td>\n",
       "</tr>\n",
       "<tr>\n",
       "  <th>Prob(Q):</th>                <td>0.00</td>  <th>  Prob(JB):          </th>  <td>0.00</td>  \n",
       "</tr>\n",
       "<tr>\n",
       "  <th>Heteroskedasticity (H):</th> <td>1.16</td>  <th>  Skew:              </th>  <td>-3.03</td> \n",
       "</tr>\n",
       "<tr>\n",
       "  <th>Prob(H) (two-sided):</th>    <td>0.44</td>  <th>  Kurtosis:          </th>  <td>21.26</td> \n",
       "</tr>\n",
       "</table><br/><br/>Warnings:<br/>[1] Covariance matrix calculated using the outer product of gradients (complex-step).<br/>[2] Covariance matrix is singular or near-singular, with condition number 8.66e+30. Standard errors may be unstable."
      ],
      "text/plain": [
       "<class 'statsmodels.iolib.summary.Summary'>\n",
       "\"\"\"\n",
       "                                      SARIMAX Results                                       \n",
       "============================================================================================\n",
       "Dep. Variable:                                value   No. Observations:                  342\n",
       "Model:             SARIMAX(1, 0, 2)x(1, 1, [1], 12)   Log Likelihood               -3446.980\n",
       "Date:                              Thu, 02 May 2024   AIC                           6905.959\n",
       "Time:                                      16:41:04   BIC                           6928.754\n",
       "Sample:                                  01-01-1992   HQIC                          6915.052\n",
       "                                       - 06-01-2020                                         \n",
       "Covariance Type:                                opg                                         \n",
       "==============================================================================\n",
       "                 coef    std err          z      P>|z|      [0.025      0.975]\n",
       "------------------------------------------------------------------------------\n",
       "ar.L1          1.0000   9.35e-05   1.07e+04      0.000       1.000       1.000\n",
       "ma.L1         -0.4013      0.019    -21.311      0.000      -0.438      -0.364\n",
       "ma.L2         -0.4555      0.021    -22.059      0.000      -0.496      -0.415\n",
       "ar.S.L12       0.2435      0.025      9.604      0.000       0.194       0.293\n",
       "ma.S.L12      -0.9970      0.027    -36.390      0.000      -1.051      -0.943\n",
       "sigma2      4.298e+07   6.98e-10   6.16e+16      0.000     4.3e+07     4.3e+07\n",
       "===================================================================================\n",
       "Ljung-Box (L1) (Q):                  25.45   Jarque-Bera (JB):              5091.29\n",
       "Prob(Q):                              0.00   Prob(JB):                         0.00\n",
       "Heteroskedasticity (H):               1.16   Skew:                            -3.03\n",
       "Prob(H) (two-sided):                  0.44   Kurtosis:                        21.26\n",
       "===================================================================================\n",
       "\n",
       "Warnings:\n",
       "[1] Covariance matrix calculated using the outer product of gradients (complex-step).\n",
       "[2] Covariance matrix is singular or near-singular, with condition number 8.66e+30. Standard errors may be unstable.\n",
       "\"\"\""
      ]
     },
     "execution_count": 13,
     "metadata": {},
     "output_type": "execute_result"
    }
   ],
   "source": [
    "#The best fit model is Sarimax with parameters (1, 0, 2), (1, 1, 1)[12] intercept\n",
    "#we will load SARIMAX and fit the train data to the model\n",
    "\n",
    "from statsmodels.tsa.statespace.sarimax import SARIMAX\n",
    "\n",
    "model = SARIMAX(train['value'],  \n",
    "                order = (1, 0, 2),  \n",
    "                seasonal_order =(1, 1, 1, 12)) \n",
    "  \n",
    "result = model.fit() \n",
    "result.summary() "
   ]
  },
  {
   "cell_type": "markdown",
   "id": "a543374b",
   "metadata": {},
   "source": [
    "### 4) Use the model to predict the montly retail sales on the last year of data"
   ]
  },
  {
   "cell_type": "code",
   "execution_count": 15,
   "id": "23d9dc19",
   "metadata": {},
   "outputs": [
    {
     "data": {
      "text/plain": [
       "<Axes: xlabel='date'>"
      ]
     },
     "execution_count": 15,
     "metadata": {},
     "output_type": "execute_result"
    },
    {
     "data": {
      "image/png": "[encoded data removed]",
      "text/plain": [
       "<Figure size 640x480 with 1 Axes>"
      ]
     },
     "metadata": {},
     "output_type": "display_data"
    }
   ],
   "source": [
    "#Then we will code the predictions of the Arima Model against the test set\n",
    "\n",
    "start = len(train) \n",
    "end = len(train) + len(test) - 1\n",
    "  \n",
    "# Predictions for one-year against the test set \n",
    "predictions = result.predict(start, end, \n",
    "                             typ = 'levels').rename(\"Predictions\") \n",
    "  \n",
    "# plot predictions and actual values \n",
    "predictions.plot(legend = True) \n",
    "test['value'].plot(legend = True)"
   ]
  },
  {
   "cell_type": "markdown",
   "id": "2534acb1",
   "metadata": {},
   "source": [
    "The predicted values are much lower than the actual values. The train dataset showed constant and steady growth for the first 19 years with one dip around 2008. After the dip in 2008, the retail sales trended a similar steady climb that occurred in years previous. My theory is that the prediction of years prior to 2020 would have a similar growth rate in comparison to the actual events. It seems the model could not have predicted what actually happened in 2021 based off the previous 19 years of data. "
   ]
  },
  {
   "cell_type": "markdown",
   "id": "cf42d7a9",
   "metadata": {},
   "source": [
    "### 5) Report the RMSE of the model preditction on the test set. "
   ]
  },
  {
   "cell_type": "code",
   "execution_count": 16,
   "id": "447c8cb0",
   "metadata": {},
   "outputs": [
    {
     "name": "stdout",
     "output_type": "stream",
     "text": [
      "RMSE Value -  64443.987862319234\n",
      "MSE Value -  4153027571.598749\n"
     ]
    }
   ],
   "source": [
    "#Evaluate the model using MSE and RMSE\n",
    "\n",
    "# Load specific evaluation tools \n",
    "from sklearn.metrics import mean_squared_error \n",
    "from statsmodels.tools.eval_measures import rmse \n",
    "  \n",
    "# Calculate root mean squared error \n",
    "RMSE = rmse(test[\"value\"], predictions) \n",
    "print(\"RMSE Value - \", RMSE)\n",
    "  \n",
    "# Calculate mean squared error \n",
    "MSE = mean_squared_error(test[\"value\"], predictions) \n",
    "print(\"MSE Value - \", MSE)"
   ]
  },
  {
   "cell_type": "markdown",
   "id": "3b42ebf8",
   "metadata": {},
   "source": [
    "RMSE is a metric used to evaluate how well a model's predicted values align with the actual observed values. It provides a measure of average difference between the predicted and observed values. The larger the RMSE indicates a greater difference between predicted and observed. With the RMSE being so large (64,443), it appears my theory is correct. The data from 1992 to 2020 could not predict what happened in 2021. The large or sharp increase in retail sales in 2021 is an anomaly that has not been observed in the time frame of 1992 to 2020. It appears the model was predicting a similar response to retail sales that took place in 2008, or even a flattening of retail sales after the large drop in retail sales that took place in 2020. "
   ]
  },
  {
   "cell_type": "code",
   "execution_count": 19,
   "id": "ad673e35",
   "metadata": {},
   "outputs": [
    {
     "data": {
      "text/plain": [
       "<Axes: xlabel='date'>"
      ]
     },
     "execution_count": 19,
     "metadata": {},
     "output_type": "execute_result"
    },
    {
     "data": {
      "image/png": "[encoded data removed]",
      "text/plain": [
       "<Figure size 1200x500 with 1 Axes>"
      ]
     },
     "metadata": {},
     "output_type": "display_data"
    }
   ],
   "source": [
    "# Train the model on the full dataset \n",
    "model = model = SARIMAX(salesdf['value'],  \n",
    "                        order = (1, 0, 1),  \n",
    "                        seasonal_order =(1, 1, 1, 12)) \n",
    "result = model.fit() \n",
    "  \n",
    "# Forecast for the next 3 years \n",
    "forecast = result.predict(start = len(sales_sort),  \n",
    "                          end = (len(sales_sort)-1) + 3 * 12,  \n",
    "                          typ = 'levels').rename('Forecast') \n",
    "  \n",
    "# Plot the forecast values \n",
    "salesdf['value'].plot(figsize = (12, 5), legend = True) \n",
    "forecast.plot(legend = True) "
   ]
  },
  {
   "cell_type": "markdown",
   "id": "1b1632e9",
   "metadata": {},
   "source": [
    "I wanted to see how the prediction would play out after 2021. This prediction shows another dip in retail sales 2022 and then a slow rebound for 2023 and 2024. "
   ]
  },
  {
   "cell_type": "code",
   "execution_count": null,
   "id": "25b9b55e",
   "metadata": {},
   "outputs": [],
   "source": []
  }
 ],
 "metadata": {
  "kernelspec": {
   "display_name": "Python 3 (ipykernel)",
   "language": "python",
   "name": "python3"
  },
  "language_info": {
   "codemirror_mode": {
    "name": "ipython",
    "version": 3
   },
   "file_extension": ".py",
   "mimetype": "text/x-python",
   "name": "python",
   "nbconvert_exporter": "python",
   "pygments_lexer": "ipython3",
   "version": "3.10.9"
  }
 },
 "nbformat": 4,
 "nbformat_minor": 5
}
